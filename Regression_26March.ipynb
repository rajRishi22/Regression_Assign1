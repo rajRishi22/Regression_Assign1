{
 "cells": [
  {
   "cell_type": "markdown",
   "id": "852ddcbe-27ff-47b1-96ce-2e8e7ef423fb",
   "metadata": {},
   "source": [
    "1.Ans In Simple Regression we only have a dependent feature and an independent feature. Ex: Heigth vs Weight dataset.\n",
    "In Multiple Linear Regression we have multiple independent features on which there is a  linearly dependent variable.\n",
    "Ex: Housing Price data, where price of house depends on multiple factors."
   ]
  },
  {
   "cell_type": "markdown",
   "id": "0da4c377-fedd-47c2-b6c3-f860bcb0657d",
   "metadata": {},
   "source": [
    "2.Ans Assumption: Output is dependent linearly on the independent features.\n",
    "It can be checked by using the error function , if error is too large then it does nor follows the assumption.\n"
   ]
  },
  {
   "cell_type": "markdown",
   "id": "8fcd64ba-1da0-4321-b3ae-a19983007b15",
   "metadata": {},
   "source": [
    "3.Ans Intercept can be easily found out by using the value of output when input features are zero.\n",
    "Gradient can be calculated by using the cost function and making it minimum. we use trail and error method to put various values in the cost function and minimize the error."
   ]
  },
  {
   "cell_type": "markdown",
   "id": "39a286a8-920a-4050-9e96-b0f7f954244d",
   "metadata": {},
   "source": [
    "4.Ans Gradient descent is a machine learning algortihm that uses slope of the cost function to determine the vallue of variable at which the cost function will be minimum.\n",
    "It is used to optimize the ML models by setting the thetha 1 thetha not, to minimize the error."
   ]
  },
  {
   "cell_type": "markdown",
   "id": "9c629e81-6eca-43bf-a2e8-313b1c66a283",
   "metadata": {},
   "source": [
    "5.Ans In Multiple Linear Regression we have multiple independent features on which there is a  linearly dependent variable.\n",
    "Ex: Housing Price data, where price of house depends on multiple factors.\n",
    "In Simple Regression we only have a dependent feature and an independent feature. Ex: Heigth vs Weight dataset.\n"
   ]
  },
  {
   "cell_type": "markdown",
   "id": "92f10e08-65e0-4567-93ec-ae0e3aff05f1",
   "metadata": {},
   "source": [
    "6.Ans Multicollinearity occurs when independent variables in a regression model are correlated. This correlation is a problem because independent variables should be independent. If the degree of correlation between variables is high enough, it can cause problems when you fit the model and interpret the results.\n"
   ]
  },
  {
   "cell_type": "markdown",
   "id": "c5789b51-8280-499a-92e0-22573e5043da",
   "metadata": {},
   "source": [
    "7.Ans Polynomial Regression model is useful when the relationship between dependent and independent features is non linear.In linear regression we have a polynomial of degree one while in polynomial degree can be anything."
   ]
  },
  {
   "cell_type": "code",
   "execution_count": null,
   "id": "ed7c57cf-0629-4480-aed5-de9bd872db62",
   "metadata": {},
   "outputs": [],
   "source": [
    "8.Ans Advantage: Polynomial regression fits best when data is not linearly dependent.\n",
    "Disadvantage: The polynomial regression is very sensitive to the outliers. Very few model validation tools are available that help detect the outliers in nonlinear regression compared to the ones present for linear regression.\n",
    "I prefer to use"
   ]
  }
 ],
 "metadata": {
  "kernelspec": {
   "display_name": "Python 3 (ipykernel)",
   "language": "python",
   "name": "python3"
  },
  "language_info": {
   "codemirror_mode": {
    "name": "ipython",
    "version": 3
   },
   "file_extension": ".py",
   "mimetype": "text/x-python",
   "name": "python",
   "nbconvert_exporter": "python",
   "pygments_lexer": "ipython3",
   "version": "3.10.8"
  }
 },
 "nbformat": 4,
 "nbformat_minor": 5
}
